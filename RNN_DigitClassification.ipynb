{
  "cells": [
    {
      "cell_type": "code",
      "execution_count": null,
      "metadata": {
        "id": "M5UHHjvMvgNy"
      },
      "outputs": [],
      "source": [
        "from google.colab import drive\n",
        "drive.mount('/content/drive')"
      ]
    },
    {
      "cell_type": "code",
      "execution_count": null,
      "metadata": {
        "id": "-TdgNqN8vnq4"
      },
      "outputs": [],
      "source": [
        "#importing necessary libraries\n",
        "import os\n",
        "from os import listdir\n",
        "from os.path import isfile, join\n",
        "from matplotlib import pyplot as plt\n",
        "import scipy.io.wavfile as wav\n",
        "import numpy as np\n",
        "from keras.preprocessing import image"
      ]
    },
    {
      "cell_type": "code",
      "execution_count": null,
      "metadata": {
        "id": "tmlL7_q1SXac"
      },
      "outputs": [],
      "source": [
        "# Required additional libraries\n",
        "import librosa\n",
        "import numpy as np\n",
        "import soundfile as sf\n",
        "import os\n",
        "\n",
        "# Audio Augmentation Functions\n",
        "def add_noise(data, noise_level=0.005):\n",
        "    noise = np.random.randn(len(data))\n",
        "    return data + noise_level * noise\n",
        "\n",
        "def time_stretch(data, rate=1.1):\n",
        "    return librosa.effects.time_stretch(data, rate=rate)\n",
        "\n",
        "def apply_pitch_shift(data, sr, n_steps=2):\n",
        "    return librosa.effects.pitch_shift(y=data, sr=sr, n_steps=n_steps)"
      ]
    },
    {
      "cell_type": "code",
      "execution_count": null,
      "metadata": {
        "id": "hs_A1eq4VHVu"
      },
      "outputs": [],
      "source": [
        "def augment_and_save(audio_path, output_dir, file_name):\n",
        "    y, sr = librosa.load(audio_path, sr=None)\n",
        "\n",
        "    base_name = os.path.splitext(file_name)[0]  # safely remove extension\n",
        "\n",
        "    # Save original again for consistency\n",
        "    sf.write(os.path.join(output_dir, f\"{base_name}_original.wav\"), y, sr)\n",
        "\n",
        "    # Add noise\n",
        "    y_noise = add_noise(y)\n",
        "    sf.write(os.path.join(output_dir, f\"{base_name}_noise.wav\"), y_noise, sr)\n",
        "\n",
        "    # Time stretch (handle exception for very short clips)\n",
        "    try:\n",
        "        y_stretch = time_stretch(y, rate=1.2)\n",
        "        sf.write(os.path.join(output_dir, f\"{base_name}_stretch.wav\"), y_stretch, sr)\n",
        "    except:\n",
        "        pass\n",
        "\n",
        "    # Pitch shift\n",
        "    y_pitch = apply_pitch_shift(y, sr, n_steps=2)\n",
        "    sf.write(os.path.join(output_dir, f\"{base_name}_pitch.wav\"), y_pitch, sr)\n"
      ]
    },
    {
      "cell_type": "code",
      "execution_count": null,
      "metadata": {
        "id": "y0hn8DCGSjpf"
      },
      "outputs": [],
      "source": [
        "# Set the original and output directories\n",
        "input_dir = \"/content/drive/MyDrive/Colab Notebooks/RNNDigitClassification/recordings/\"   # folder with original wav files\n",
        "augmented_dir = \"/content/drive/MyDrive/Colab Notebooks/RNNDigitClassification/augmented_audio/\"    # folder to save augmented wav files\n",
        "\n",
        "# Create output folder if it doesn't exist\n",
        "os.makedirs(augmented_dir, exist_ok=True)\n",
        "\n",
        "# Loop through and apply augmentations\n",
        "for file in os.listdir(input_dir):\n",
        "    if file.endswith(\".wav\"):\n",
        "        audio_path = os.path.join(input_dir, file)\n",
        "        augment_and_save(audio_path, augmented_dir, file)\n"
      ]
    },
    {
      "cell_type": "code",
      "execution_count": null,
      "metadata": {
        "id": "_xPSQMSdvzlb"
      },
      "outputs": [],
      "source": [
        "import matplotlib.pyplot as plt\n",
        "from scipy.io import wavfile as wav\n",
        "\n",
        "def wav_to_spectrogram(audio_path, save_path, spectrogram_dimensions=(64, 64), noverlap=16, cmap='gray_r'):\n",
        "    # Read the audio file (returns sample rate and audio samples)\n",
        "    sample_rate, samples = wav.read(audio_path)\n",
        "\n",
        "    # If the audio is stereo (2 channels), convert it to mono by averaging the channels\n",
        "    if samples.ndim > 1:\n",
        "        samples = samples.mean(axis=1)\n",
        "\n",
        "    # Create a new figure for the spectrogram\n",
        "    fig = plt.figure()\n",
        "\n",
        "    # Set figure size in inches based on desired spectrogram pixel dimensions and DPI\n",
        "    fig.set_size_inches((spectrogram_dimensions[0] / fig.get_dpi(),\n",
        "                         spectrogram_dimensions[1] / fig.get_dpi()))\n",
        "\n",
        "    # Create an Axes object that fills the entire figure without margins\n",
        "    ax = plt.Axes(fig, [0., 0., 1., 1.])\n",
        "    ax.set_axis_off()  # Turn off axis display (no ticks, labels, etc.)\n",
        "    fig.add_axes(ax)   # Add the axes to the figure\n",
        "\n",
        "    # Plot the spectrogram\n",
        "    ax.specgram(samples, cmap=cmap, Fs=sample_rate, noverlap=noverlap)\n",
        "\n",
        "    # Remove axis ticks\n",
        "    ax.xaxis.set_major_locator(plt.NullLocator())\n",
        "    ax.yaxis.set_major_locator(plt.NullLocator())\n",
        "\n",
        "    # Save the figure as an image, tightly cropped with no padding\n",
        "    fig.savefig(save_path, bbox_inches=\"tight\", pad_inches=0)\n"
      ]
    },
    {
      "cell_type": "code",
      "execution_count": null,
      "metadata": {
        "id": "P4W9xRSXv1sx"
      },
      "outputs": [],
      "source": [
        "from os import listdir\n",
        "from os.path import isfile, join\n",
        "\n",
        "def dir_to_spectrogram(audio_dir, spectrogram_dir, spectrogram_dimensions=(64, 64), noverlap=16, cmap='gray_r'):\n",
        "    \"\"\"\n",
        "    Converts all .wav files in a given directory to spectrogram images.\n",
        "\n",
        "    Parameters:\n",
        "    - audio_dir: Path to the folder containing .wav audio files.\n",
        "    - spectrogram_dir: Path to the folder where spectrogram images will be saved.\n",
        "    - spectrogram_dimensions: Size (width, height) of the output spectrogram image in pixels.\n",
        "    - noverlap: Number of overlapping samples for the spectrogram calculation.\n",
        "    - cmap: Color map for the spectrogram (default is grayscale reversed).\n",
        "    \"\"\"\n",
        "\n",
        "    # Get list of all .wav files in the directory\n",
        "    file_names = [f for f in listdir(audio_dir) if isfile(join(audio_dir, f)) and '.wav' in f]\n",
        "\n",
        "    # Loop over each .wav file\n",
        "    for file_name in file_names:\n",
        "        print(file_name)  # Optional: log the file being processed\n",
        "\n",
        "        # Construct full path to the audio file\n",
        "        audio_path = audio_dir + file_name\n",
        "\n",
        "        # Construct path for saving the corresponding spectrogram image\n",
        "        spectogram_path = spectrogram_dir + file_name.replace('.wav', '.png')\n",
        "\n",
        "        # Call the function to convert audio to spectrogram image and save it\n",
        "        wav_to_spectrogram(\n",
        "            audio_path,\n",
        "            spectogram_path,\n",
        "            spectrogram_dimensions=spectrogram_dimensions,\n",
        "            noverlap=noverlap,\n",
        "            cmap=cmap\n",
        "        )\n"
      ]
    },
    {
      "cell_type": "code",
      "source": [
        "# Set the path to the folder containing audio (.wav) files\n",
        "audio_folder = \"/content/drive/MyDrive/Colab Notebooks/RNNDigitClassification/augmented_audio/\"\n",
        "\n",
        "# Set the path to the folder where spectrogram images will be saved\n",
        "spectrogram_folder = \"/content/drive/MyDrive/Colab Notebooks/RNNDigitClassification/Spectrograms/\"\n",
        "\n",
        "# Call the function to convert all .wav files in the audio folder to spectrogram images\n",
        "# Each spectrogram will be saved in the spectrogram_folder with the same base name and a .png extension\n",
        "dir_to_spectrogram(audio_folder, spectrogram_folder)"
      ],
      "metadata": {
        "id": "o_zpoXMe8mI0"
      },
      "execution_count": null,
      "outputs": []
    },
    {
      "cell_type": "code",
      "execution_count": null,
      "metadata": {
        "id": "jTstREzwv5E-"
      },
      "outputs": [],
      "source": [
        "import os\n",
        "import numpy as np\n",
        "import matplotlib.pyplot as plt\n",
        "from tensorflow.keras.preprocessing import image\n",
        "from tensorflow.keras.utils import to_categorical"
      ]
    },
    {
      "cell_type": "code",
      "execution_count": null,
      "metadata": {
        "id": "67ehS6eqv6ua"
      },
      "outputs": [],
      "source": [
        "import os\n",
        "import shutil\n",
        "from sklearn.model_selection import train_test_split\n",
        "\n",
        "# Define paths\n",
        "dataset_folder = \"/content/drive/MyDrive/Colab Notebooks/RNNDigitClassification/Spectrograms/\"\n",
        "train_folder = \"/content/drive/MyDrive/Colab Notebooks/RNNDigitClassification/Train/\"\n",
        "test_folder = \"/content/drive/MyDrive/Colab Notebooks/RNNDigitClassification/Test/\"\n",
        "\n",
        "# Create training and testing folders if they don't exist\n",
        "os.makedirs(train_folder, exist_ok=True)\n",
        "os.makedirs(test_folder, exist_ok=True)\n",
        "\n",
        "# Get list of spectrogram image files\n",
        "files = [f for f in os.listdir(dataset_folder) if f.lower().endswith((\".png\", \".jpg\", \".jpeg\"))]\n",
        "print(\"Total spectrogram files:\", len(files))\n",
        "\n"
      ]
    },
    {
      "cell_type": "code",
      "source": [
        "# Split the dataset into training and testing sets\n",
        "train_files, test_files = train_test_split(files, test_size=0.2, random_state=42)\n",
        "\n",
        "# Move training files to the training folder\n",
        "for file in train_files:\n",
        "    shutil.move(os.path.join(dataset_folder, file), os.path.join(train_folder, file))\n",
        "\n",
        "# Move testing files to the testing folder\n",
        "for file in test_files:\n",
        "    shutil.move(os.path.join(dataset_folder, file), os.path.join(test_folder, file))"
      ],
      "metadata": {
        "id": "O5NDdQQtGcF_"
      },
      "execution_count": null,
      "outputs": []
    },
    {
      "cell_type": "code",
      "execution_count": null,
      "metadata": {
        "id": "cNB6Jfdlv8pV"
      },
      "outputs": [],
      "source": [
        "trainset = []  # Initialize an empty list to store image-label pairs\n",
        "train_directory = \"/content/drive/MyDrive/Colab Notebooks/RNNDigitClassification/Train/\"  # Path to the directory containing training images (e.g., spectrograms)\n",
        "\n",
        "# Loop through each file in the training directory\n",
        "for file in os.listdir(train_directory):\n",
        "\n",
        "    # Extract the label from the file name\n",
        "    labels = file.split('_')[0]\n",
        "\n",
        "    # Extract the sample number (not used here but kept for reference)\n",
        "    sample_number = file.split('_')[2]\n",
        "\n",
        "    # Load the image using Keras (default target size can be added if needed)\n",
        "    img = image.load_img(train_directory + file)\n",
        "\n",
        "    # Convert the image to a NumPy array (for feeding into model)\n",
        "    img_array = image.img_to_array(img)\n",
        "\n",
        "    # Append the image array and its label as a pair to the dataset\n",
        "    trainset.append([img_array, labels])\n"
      ]
    },
    {
      "cell_type": "code",
      "execution_count": null,
      "metadata": {
        "id": "aDxcXEj0v-Gz"
      },
      "outputs": [],
      "source": [
        "#Similarly for test data\n",
        "testset= []\n",
        "test_directory = \"/content/drive/MyDrive/Colab Notebooks/RNNDigitClassification/Test/\"\n",
        "for file in os.listdir(test_directory):\n",
        "  labels = file.split('_')[0]\n",
        "  sample_number = file.split('_')[2]\n",
        "  img = image.load_img(test_directory+file)\n",
        "  testset.append([image.img_to_array(img), labels])"
      ]
    },
    {
      "cell_type": "code",
      "execution_count": null,
      "metadata": {
        "id": "O-oPMvnMv_bO"
      },
      "outputs": [],
      "source": [
        "import tensorflow as tf\n",
        "from tensorflow.keras.layers import Input, Dense, SimpleRNN\n",
        "from tensorflow.keras.models import Model\n",
        "import numpy as np"
      ]
    },
    {
      "cell_type": "code",
      "execution_count": null,
      "metadata": {
        "id": "B6kpGh0wwCQ5"
      },
      "outputs": [],
      "source": [
        "# Get only images in the train list, not the labels\n",
        "X_train = [item[0] for item in trainset]\n",
        "# Get only labels in the train list, not the images\n",
        "y_train = [item[1] for item in trainset]\n",
        "# Get only images in the test list, not the labels\n",
        "X_test = [item[0] for item in testset]\n",
        "# Get only labels in the test list, not the images\n",
        "y_test = [item[1] for item in testset]\n"
      ]
    },
    {
      "cell_type": "code",
      "execution_count": null,
      "metadata": {
        "id": "FTh-IEyRwDpw"
      },
      "outputs": [],
      "source": [
        "# Convert list to numpy array in order to define input shape\n",
        "X_train = np.asanyarray(X_train)\n",
        "y_train = np.asanyarray(y_train)\n",
        "X_test = np.asanyarray(X_test)\n",
        "y_test = np.asanyarray(y_test)\n",
        "print(\"X_train\",X_train.shape)\n",
        "print(\"y_train\",y_train.shape)\n",
        "print(\"X_test\",X_test.shape)\n",
        "print(\"y_test\",y_test.shape)"
      ]
    },
    {
      "cell_type": "code",
      "execution_count": null,
      "metadata": {
        "id": "9mKxGpDXwE-n"
      },
      "outputs": [],
      "source": [
        "# Convert labels to numerical values\n",
        "label_to_index = {label: i for i, label in enumerate(set(y_train))}\n",
        "y_train_numeric = np.array([label_to_index[label] for label in y_train])\n",
        "y_test_numeric = np.array([label_to_index[label] for label in y_test])\n",
        "\n",
        "# Convert numerical labels to one-hot encoded vectors\n",
        "num_classes = len(label_to_index)\n",
        "y_train= to_categorical(y_train_numeric, num_classes=num_classes)\n",
        "y_test= to_categorical(y_test_numeric, num_classes=num_classes)\n",
        "\n",
        "# Normalize the images\n",
        "X_train /= 255\n",
        "X_test /= 255"
      ]
    },
    {
      "cell_type": "code",
      "execution_count": null,
      "metadata": {
        "id": "1JdxTLTiwGie"
      },
      "outputs": [],
      "source": [
        "print(X_train.shape)"
      ]
    },
    {
      "cell_type": "code",
      "execution_count": null,
      "metadata": {
        "id": "TKay-8XewH2D"
      },
      "outputs": [],
      "source": [
        "X_train = np.reshape(X_train, (X_train.shape[0], X_train.shape[1], X_train.shape[2] * X_train.shape[3]))\n",
        "X_test = np.reshape(X_test, (X_test.shape[0], X_test.shape[1], X_test.shape[2] * X_test.shape[3]))\n",
        "\n",
        "print(X_train.shape)\n",
        "print(X_test.shape)"
      ]
    },
    {
      "cell_type": "code",
      "execution_count": null,
      "metadata": {
        "id": "9RPchtGUwJTn"
      },
      "outputs": [],
      "source": [
        "import numpy as np\n",
        "from tensorflow.keras.models import Sequential\n",
        "from tensorflow.keras.layers import LSTM, Dense\n",
        "model = Sequential()\n",
        "model.add(LSTM(64, input_shape=(64, 192)))\n",
        "model.add(Dense(10, activation='softmax'))\n",
        "model.summary()"
      ]
    },
    {
      "cell_type": "code",
      "execution_count": null,
      "metadata": {
        "id": "4wezuVIZwKnp"
      },
      "outputs": [],
      "source": [
        "model.compile(loss='categorical_crossentropy', optimizer='SGD', metrics=['accuracy'])\n",
        "model.fit(X_train, y_train, batch_size=32, epochs=100, validation_data=(X_test, y_test))\n"
      ]
    },
    {
      "cell_type": "code",
      "execution_count": null,
      "metadata": {
        "id": "lRXy-ijrwMmL"
      },
      "outputs": [],
      "source": [
        "model.evaluate(X_test, y_test)"
      ]
    },
    {
      "cell_type": "code",
      "execution_count": null,
      "metadata": {
        "id": "X_hpG-PnwNzM"
      },
      "outputs": [],
      "source": [
        "import numpy as np\n",
        "import matplotlib.pyplot as plt\n",
        "import seaborn as sns\n",
        "from sklearn.metrics import confusion_matrix\n",
        "import tensorflow as tf\n",
        "\n",
        "from matplotlib.font_manager import FontProperties\n",
        "from tensorflow import keras\n",
        "font_prop = FontProperties(fname=\"/content/drive/MyDrive/Colab Notebooks/RNNDigitClassification/Mangal Regular.ttf\", size=12)\n",
        "y_pred = model.predict(X_test)\n",
        "y_pred_classes = np.argmax(y_pred, axis=1)\n",
        "y_true_classes = np.argmax(y_test, axis=1)\n",
        "\n",
        "confusion_mat = confusion_matrix(y_true_classes, y_pred_classes)\n",
        "\n",
        "class_labels = [\"शून्य\", \"एक\", \"दो\", \"तीन\", \"चार\", \"पाँच\", \"छह\", \"सात\", \"आठ\", \"नौ\"]\n",
        "\n",
        "plt.figure(figsize=(8, 6))\n",
        "sns.heatmap(confusion_mat, annot=True, fmt=\"d\", cmap=\"Blues\", xticklabels=class_labels, yticklabels=class_labels)\n",
        "\n",
        "# Set font properties for x-axis labels\n",
        "plt.xticks(fontproperties=font_prop)\n",
        "\n",
        "# Set font properties for y-axis labels\n",
        "plt.yticks(fontproperties=font_prop)\n",
        "plt.title(\"Confusion Matrix\")\n",
        "plt.xlabel(\"Predicted Labels\")\n",
        "plt.ylabel(\"True Labels\")\n",
        "plt.show()"
      ]
    },
    {
      "cell_type": "code",
      "execution_count": null,
      "metadata": {
        "id": "ktIZPlsCwQvr"
      },
      "outputs": [],
      "source": [
        "\n",
        "history = model.fit(X_train, y_train, batch_size=32, epochs=10, validation_data=(X_test, y_test))\n",
        "\n",
        "# Plot the accuracy versus epochs graph\n",
        "plt.plot(history.history['accuracy'])\n",
        "plt.plot(history.history['val_accuracy'])\n",
        "plt.title('Model Accuracy')\n",
        "plt.xlabel('Epoch')\n",
        "plt.ylabel('Accuracy')\n",
        "plt.legend(['Train', 'Validation'], loc='upper left')\n",
        "plt.show()"
      ]
    },
    {
      "cell_type": "code",
      "source": [
        "# Evaluate model (optional)\n",
        "loss, acc = model.evaluate(X_test, y_test)\n",
        "print(f\"Test accuracy: {acc:.4f}\")\n",
        "\n",
        "# Save the model\n",
        "model.save(\"best_model.h5\")\n",
        "print(\"Model saved successfully as best_model.h5\")"
      ],
      "metadata": {
        "id": "4KDo07FMa1H9"
      },
      "execution_count": null,
      "outputs": []
    },
    {
      "cell_type": "code",
      "execution_count": null,
      "metadata": {
        "id": "LDM7I0PlwS1t"
      },
      "outputs": [],
      "source": [
        "import os\n",
        "from os import listdir\n",
        "from os.path import isfile, join"
      ]
    },
    {
      "cell_type": "code",
      "execution_count": null,
      "metadata": {
        "id": "y9hccXuMwUi1"
      },
      "outputs": [],
      "source": [
        "folder_path= \"/content/drive/MyDrive/Colab Notebooks/RNNDigitClassification/Test/\"\n",
        "def count_files_by_name(folder_path):\n",
        "    file_count = {}\n",
        "    for root, dirs, files in os.walk(folder_path):\n",
        "        for file in files:\n",
        "            file_name = os.path.splitext(file)[1]\n",
        "            if file_name in file_count:\n",
        "                file_count[file_name] += 1\n",
        "            else:\n",
        "                file_count[file_name] = 1\n",
        "    return file_count\n",
        "\n",
        "folder_path = input(\"Enter folder path: \")\n",
        "file_count = count_files_by_name(folder_path)\n",
        "for name, count in file_count.items():\n",
        "    print(f\"Number of files named '{name}': {count}\")"
      ]
    },
    {
      "cell_type": "code",
      "execution_count": null,
      "metadata": {
        "id": "n0ZvqTFDwcP2"
      },
      "outputs": [],
      "source": [
        "import os\n",
        "\n",
        "def count_files_with_prefix(folder_path, prefix):\n",
        "    file_count = 0\n",
        "    for root, dirs, files in os.walk(folder_path):\n",
        "        for file in files:\n",
        "            if file.startswith(prefix):\n",
        "                file_count += 1\n",
        "    return file_count\n",
        "\n",
        "folder_path = \"/content/drive/MyDrive/Colab Notebooks/RNNDigitClassification/Test/\"\n",
        "\n",
        "# Hindi digit prefixes from 0 (शून्य) to 9 (नौ)\n",
        "hindi_digits = [\n",
        "    \"शून्य_\",   # 0\n",
        "    \"एक_\",   # 1\n",
        "    \"दो_\",    # 2\n",
        "    \"तीन_\",   # 3\n",
        "    \"चार_\",   # 4\n",
        "    \"पाँच_\",   # 5\n",
        "    \"छह_\",   # 6\n",
        "    \"सात_\",   # 7\n",
        "    \"आठ_\",   # 8\n",
        "    \"नौ_\"     # 9\n",
        "]\n",
        "\n",
        "# Loop through each digit and count files\n",
        "for digit_prefix in hindi_digits:\n",
        "    count = count_files_with_prefix(folder_path, digit_prefix)\n",
        "    print(f\"Number of files with names starting with '{digit_prefix}': {count}\")\n"
      ]
    }
  ],
  "metadata": {
    "colab": {
      "provenance": []
    },
    "kernelspec": {
      "display_name": "Python 3",
      "name": "python3"
    },
    "language_info": {
      "name": "python"
    }
  },
  "nbformat": 4,
  "nbformat_minor": 0
}